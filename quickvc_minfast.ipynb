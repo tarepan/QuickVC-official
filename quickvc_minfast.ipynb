{
  "cells": [
    {
      "cell_type": "markdown",
      "source": [
        "## QuickVC-minfast nosr notgt\n",
        "[![Package badge]][github]\n",
        "[![Open In Colab]][notebook]\n",
        "\n",
        "Author: [tarepan]\n",
        "\n",
        "fast training QuickVC with minimum modification toward official implementation.  \n",
        "The model is:  \n",
        "- ***nosr*** (No spec resize augmentation)\n",
        "- ***notgt*** (No different utterance target embedding as miss-implemented QuickVC-official)\n",
        "\n",
        "[github]:https://github.com/tarepan/QuickVC-official/tree/minfast\n",
        "[notebook]:https://colab.research.google.com/github/tarepan/QuickVC-official/blob/minfast/quickvc_minfast.ipynb\n",
        "[tarepan]:https://github.com/tarepan\n",
        "[Package badge]:https://img.shields.io/badge/GitHub-quickvcofficial-9cf.svg\n",
        "[Open In Colab]:https://colab.research.google.com/assets/colab-badge.svg"
      ],
      "metadata": {
        "id": "2uQ8T8J93y0b"
      }
    },
    {
      "cell_type": "markdown",
      "source": [
        "## Check\n",
        "Check environments."
      ],
      "metadata": {
        "id": "NPTUR1la4utU"
      }
    },
    {
      "cell_type": "code",
      "source": [
        "!cat /proc/uptime | awk '{print $1 /60 /60 /24 \"days (\" $1 \"sec)\"}' # Google Colaboratory runnning time\n",
        "!head -n 1 /proc/driver/nvidia/gpus/**/information                  # GPU type\n",
        "!/usr/local/cuda/bin/nvcc --version | sed '4!d'                     # CUDA version\n",
        "!python --version                                                   # Python version\n",
        "!pip show torch | sed '2!d'                                         # PyTorch version"
      ],
      "metadata": {
        "id": "pT4sfMT74wPZ"
      },
      "execution_count": null,
      "outputs": []
    },
    {
      "cell_type": "markdown",
      "source": [
        "## Setup"
      ],
      "metadata": {
        "id": "k1mCfPt74yHZ"
      }
    },
    {
      "cell_type": "code",
      "source": [
        "# GoogleDrive\n",
        "from google.colab import drive\n",
        "drive.mount('/content/gdrive')\n",
        "\n",
        "# Dedicated dependencies install\n",
        "# !pip install \"torch==2.0.0\" -q          # Based on your PyTorch environment\n",
        "# !pip install \"torchaudio==2.0.1\" -q     # Based on your PyTorch environment\n",
        "\n",
        "# repository clone\n",
        "!git clone -b minfast https://github.com/tarepan/QuickVC-official.git\n",
        "\n",
        "%cd QuickVC-official"
      ],
      "metadata": {
        "id": "WW4X677U40HQ"
      },
      "execution_count": null,
      "outputs": []
    },
    {
      "cell_type": "code",
      "source": [
        "# Remove samples\n",
        "!rm -r ./output/quickvc/*\n",
        "!ls ./output/quickvc"
      ],
      "metadata": {
        "id": "caDenxXe5Mcq"
      },
      "execution_count": null,
      "outputs": []
    },
    {
      "cell_type": "markdown",
      "source": [
        "## Data"
      ],
      "metadata": {
        "id": "UHXIkCzR5XC1"
      }
    },
    {
      "cell_type": "code",
      "source": [
        "!cp /content/gdrive/MyDrive/ML_data/corpuses/VCTK/vctk2019ds/DS_10283_3443.zip .\n",
        "!unzip \"DS_10283_3443.zip\"\n",
        "!mkdir -p \"./corpus/vctk\"\n",
        "!unzip -d \"./corpus/vctk\" VCTK-Corpus-0.92.zip"
      ],
      "metadata": {
        "id": "NOS7Eqsb5Xie"
      },
      "execution_count": null,
      "outputs": []
    },
    {
      "cell_type": "markdown",
      "source": [
        "## Preprocessing"
      ],
      "metadata": {
        "id": "U0znnLN-5f54"
      }
    },
    {
      "cell_type": "code",
      "source": [
        "!python downsample.py --in_dir \"./corpus/vctk/wav48_silence_trimmed/\""
      ],
      "metadata": {
        "id": "hcpXq_GM5h2k"
      },
      "execution_count": null,
      "outputs": []
    },
    {
      "cell_type": "code",
      "source": [
        "%cd dataset\n",
        "!python encode.py soft\n",
        "%cd .."
      ],
      "metadata": {
        "id": "qHMe9UmG5jCg"
      },
      "execution_count": null,
      "outputs": []
    },
    {
      "cell_type": "markdown",
      "source": [
        "## Training"
      ],
      "metadata": {
        "id": "7laGOhVn5qXJ"
      }
    },
    {
      "cell_type": "code",
      "source": [
        "!mkdir temp_result\n",
        "\n",
        "# Launch TensorBoard\n",
        "# %load_ext tensorboard\n",
        "# %tensorboard --logdir \"/content/gdrive/MyDrive/ML_results/quickvc_official/default/version_1\"\n",
        "\n",
        "!python train.py --model quickvc_minfast"
      ],
      "metadata": {
        "id": "LE1m5Yzr5rvu"
      },
      "execution_count": null,
      "outputs": []
    }
  ],
  "metadata": {
    "colab": {
      "provenance": [],
      "private_outputs": true,
      "gpuType": "T4"
    },
    "kernelspec": {
      "display_name": "Python 3",
      "name": "python3"
    },
    "accelerator": "GPU"
  },
  "nbformat": 4,
  "nbformat_minor": 0
}