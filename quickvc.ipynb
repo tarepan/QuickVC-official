{
  "cells": [
    {
      "attachments": {},
      "cell_type": "markdown",
      "metadata": {
        "id": "4oWm0zXecPh6"
      },
      "source": [
        "# quickvc\n",
        "[![Package badge]][github]\n",
        "[![Open In Colab]][notebook]\n",
        "\n",
        "Author: [tarepan]\n",
        "\n",
        "[github]:https://github.com/tarepan/QuickVC-official\n",
        "[notebook]:https://colab.research.google.com/github/tarepan/QuickVC-official/blob/main/quickvc.ipynb\n",
        "[tarepan]:https://github.com/terepan\n",
        "[Package badge]:https://img.shields.io/badge/GitHub-quickvc-9cf.svg\n",
        "[Open In Colab]:https://colab.research.google.com/assets/colab-badge.svg"
      ]
    },
    {
      "attachments": {},
      "cell_type": "markdown",
      "metadata": {
        "id": "QFQivUIyZyYi"
      },
      "source": [
        "## Colab Check\n",
        "Check environments."
      ]
    },
    {
      "cell_type": "code",
      "execution_count": null,
      "metadata": {
        "id": "4cwyMoXOZ7e1"
      },
      "outputs": [],
      "source": [
        "!cat /proc/uptime | awk '{print $1 /60 /60 /24 \"days (\" $1 \"sec)\"}' # Google Colaboratory runnning time\n",
        "!head -n 1 /proc/driver/nvidia/gpus/**/information                  # GPU type\n",
        "!/usr/local/cuda/bin/nvcc --version | sed '4!d'                     # CUDA version\n",
        "!python --version                                                   # Python version\n",
        "!pip show torch | sed '2!d'                                         # PyTorch version"
      ]
    },
    {
      "attachments": {},
      "cell_type": "markdown",
      "metadata": {
        "id": "K125Ein7VCwM"
      },
      "source": [
        "## Setup"
      ]
    },
    {
      "attachments": {},
      "cell_type": "markdown",
      "metadata": {
        "id": "LJCLLQ_8cPiM"
      },
      "source": [
        "Install the package from `terepan/QuickVC-official` public repository"
      ]
    },
    {
      "cell_type": "code",
      "execution_count": null,
      "metadata": {
        "id": "wZ9fU-17Sdxb"
      },
      "outputs": [],
      "source": [
        "# GoogleDrive\n",
        "from google.colab import drive\n",
        "drive.mount('/content/gdrive')\n",
        "\n",
        "# Dedicated dependencies install\n",
        "# !pip install \"torch==2.0.0\" -q            # Based on your PyTorch environment\n",
        "# !pip install \"torchaudio==2.0.1\" -q       # Based on your PyTorch environment\n",
        "# repository install\n",
        "# !pip uninstall packname -y -q\n",
        "# !pip install git+https://github.com/tarepan/QuickVC-official -q\n",
        "!git clone https://github.com/tarepan/QuickVC-official.git\n",
        "%cd QuickVC-official"
      ]
    },
    {
      "cell_type": "code",
      "execution_count": null,
      "metadata": {
        "id": "5461Ypb2w-Db"
      },
      "outputs": [],
      "source": [
        "# Official pretrained models\n",
        "!cp /content/gdrive/MyDrive/ML_data/pretrained/quickvc_official/G_1200000.pth ./logs/quickvc\n",
        "!cp /content/gdrive/MyDrive/ML_data/pretrained/quickvc_official/D_1200000.pth ./logs/quickvc\n",
        "!cp ./logs/quickvc/G_1200000.pth ./logs/quickvc/quickvc.pth"
      ]
    },
    {
      "cell_type": "code",
      "execution_count": null,
      "metadata": {
        "id": "17EPgaX4xwtB"
      },
      "outputs": [],
      "source": [
        "# Remove samples\n",
        "!rm -r ./output/quickvc/*\n",
        "!ls ./output/quickvc"
      ]
    },
    {
      "attachments": {},
      "cell_type": "markdown",
      "metadata": {
        "id": "K9Ti266jYZVc"
      },
      "source": [
        "## Data"
      ]
    },
    {
      "cell_type": "code",
      "execution_count": null,
      "metadata": {
        "id": "r_dIdTxBYavb"
      },
      "outputs": [],
      "source": [
        "!cp /content/gdrive/MyDrive/ML_data/corpuses/VCTK/vctk2019ds/DS_10283_3443.zip .\n",
        "!unzip \"DS_10283_3443.zip\"\n",
        "!mkdir -p \"./dataset/vctk\"\n",
        "!unzip -d \"./dataset/vctk\" VCTK-Corpus-0.92.zip"
      ]
    },
    {
      "attachments": {},
      "cell_type": "markdown",
      "metadata": {
        "id": "4XO_5y6IsaO-"
      },
      "source": [
        "## Preprocessing"
      ]
    },
    {
      "cell_type": "code",
      "execution_count": null,
      "metadata": {
        "id": "j8g-L9szaRP-"
      },
      "outputs": [],
      "source": [
        "!python downsample.py"
      ]
    },
    {
      "cell_type": "code",
      "execution_count": null,
      "metadata": {
        "id": "iuR-UojHscMX"
      },
      "outputs": [],
      "source": [
        "%cd dataset\n",
        "!python encode.py soft vctk-16k vctk-16k\n",
        "%cd .."
      ]
    },
    {
      "attachments": {},
      "cell_type": "markdown",
      "metadata": {
        "id": "ptA8A-dhEgqZ"
      },
      "source": [
        "## Training"
      ]
    },
    {
      "cell_type": "code",
      "execution_count": null,
      "metadata": {
        "id": "5bmQ0dzaw2g9"
      },
      "outputs": [],
      "source": [
        "!mkdir temp_result"
      ]
    },
    {
      "cell_type": "code",
      "execution_count": null,
      "metadata": {
        "id": "Ybdp-eWctS85"
      },
      "outputs": [],
      "source": [
        "# Launch TensorBoard\n",
        "%load_ext tensorboard\n",
        "%tensorboard --logdir \"/content/gdrive/MyDrive/ML_results/quickvc_official/default/version_1\"\n",
        "\n",
        "!python train.py -mr \"/content/gdrive/MyDrive/ML_results/quickvc_official/default/version_1\""
      ]
    },
    {
      "attachments": {},
      "cell_type": "markdown",
      "metadata": {},
      "source": [
        "## Inference"
      ]
    },
    {
      "cell_type": "code",
      "execution_count": null,
      "metadata": {},
      "outputs": [],
      "source": [
        "!python convert.py\n",
        "!ls output/quickvc/"
      ]
    },
    {
      "cell_type": "code",
      "execution_count": null,
      "metadata": {},
      "outputs": [],
      "source": [
        "from pathlib import Path\n",
        "import librosa\n",
        "from IPython.display import Audio, display\n",
        "\n",
        "for p in Path(\"./output/quickvc\").glob('**/*.wav'):\n",
        "    audio, sr = librosa.load(p)\n",
        "    display(Audio(audio, rate=sr, normalize=False))\n"
      ]
    }
  ],
  "metadata": {
    "accelerator": "GPU",
    "colab": {
      "gpuType": "T4",
      "machine_shape": "hm",
      "private_outputs": true,
      "provenance": []
    },
    "gpuClass": "standard",
    "kernelspec": {
      "display_name": "Python 3.7.13 64-bit",
      "language": "python",
      "name": "python3"
    },
    "language_info": {
      "name": "python",
      "version": "3.8.13"
    },
    "vscode": {
      "interpreter": {
        "hash": "949777d72b0d2535278d3dc13498b2535136f6dfe0678499012e853ee9abcab1"
      }
    }
  },
  "nbformat": 4,
  "nbformat_minor": 0
}
